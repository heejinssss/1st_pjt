{
 "cells": [
  {
   "cell_type": "code",
   "execution_count": 3,
   "id": "8a8c57b0",
   "metadata": {},
   "outputs": [
    {
     "name": "stdout",
     "output_type": "stream",
     "text": [
      "Requirement already satisfied: JustWatch in c:\\users\\ssafy\\appdata\\local\\programs\\python\\python39\\lib\\site-packages (0.5.1)\n",
      "Requirement already satisfied: requests>=2.0 in c:\\users\\ssafy\\appdata\\local\\programs\\python\\python39\\lib\\site-packages (from JustWatch) (2.28.2)\n",
      "Requirement already satisfied: urllib3<1.27,>=1.21.1 in c:\\users\\ssafy\\appdata\\local\\programs\\python\\python39\\lib\\site-packages (from requests>=2.0->JustWatch) (1.26.15)\n",
      "Requirement already satisfied: charset-normalizer<4,>=2 in c:\\users\\ssafy\\appdata\\local\\programs\\python\\python39\\lib\\site-packages (from requests>=2.0->JustWatch) (3.1.0)\n",
      "Requirement already satisfied: idna<4,>=2.5 in c:\\users\\ssafy\\appdata\\local\\programs\\python\\python39\\lib\\site-packages (from requests>=2.0->JustWatch) (3.4)\n",
      "Requirement already satisfied: certifi>=2017.4.17 in c:\\users\\ssafy\\appdata\\local\\programs\\python\\python39\\lib\\site-packages (from requests>=2.0->JustWatch) (2022.12.7)\n",
      "Note: you may need to restart the kernel to use updated packages.\n"
     ]
    },
    {
     "name": "stderr",
     "output_type": "stream",
     "text": [
      "WARNING: You are using pip version 22.0.4; however, version 23.1.2 is available.\n",
      "You should consider upgrading via the 'C:\\Users\\SSAFY\\AppData\\Local\\Programs\\Python\\Python39\\python.exe -m pip install --upgrade pip' command.\n"
     ]
    }
   ],
   "source": [
    "pip install JustWatch"
   ]
  },
  {
   "cell_type": "code",
   "execution_count": null,
   "id": "f1bf2cf7",
   "metadata": {},
   "outputs": [],
   "source": [
    "import sys\n",
    "from justwatch import JustWatch\n",
    "import pprint\n",
    "\n",
    "just_watch = JustWatch(country='KR')\n",
    "\n",
    "results = []\n",
    "\n",
    "for num in range(1, 44):\n",
    "\n",
    "    result_by_multiple = just_watch.search_for_item(\n",
    "        providers=['dnp'],\n",
    "        content_types=['movie'],\n",
    "        page = num,\n",
    "    )\n",
    "    \n",
    "    results.append(result_by_multiple)\n",
    "\n",
    "sys.stdout = open('myjson.txt', 'w', encoding=\"UTF-8\")    \n",
    "\n",
    "pprint.pprint(results)\n",
    "\n",
    "sys.stdout.close()"
   ]
  },
  {
   "cell_type": "code",
   "execution_count": null,
   "id": "c58b0f1b",
   "metadata": {},
   "outputs": [],
   "source": []
  }
 ],
 "metadata": {
  "kernelspec": {
   "display_name": "Python 3 (ipykernel)",
   "language": "python",
   "name": "python3"
  },
  "language_info": {
   "codemirror_mode": {
    "name": "ipython",
    "version": 3
   },
   "file_extension": ".py",
   "mimetype": "text/x-python",
   "name": "python",
   "nbconvert_exporter": "python",
   "pygments_lexer": "ipython3",
   "version": "3.9.13"
  }
 },
 "nbformat": 4,
 "nbformat_minor": 5
}
