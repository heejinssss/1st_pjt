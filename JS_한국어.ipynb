{
 "cells": [
  {
   "cell_type": "code",
   "execution_count": 12,
   "id": "d0c71f6d",
   "metadata": {},
   "outputs": [
    {
     "name": "stderr",
     "output_type": "stream",
     "text": [
      "WARNING: You are using pip version 22.0.4; however, version 23.1.2 is available.\n",
      "You should consider upgrading via the 'C:\\Users\\SSAFY\\AppData\\Local\\Programs\\Python\\Python39\\python.exe -m pip install --upgrade pip' command.\n"
     ]
    }
   ],
   "source": [
    "pip install tqdm"
   ]
  },
  {
   "cell_type": "code",
   "execution_count": 15,
   "id": "693f3884",
   "metadata": {},
   "outputs": [
    {
     "name": "stderr",
     "output_type": "stream",
     "text": [
      "WARNING: You are using pip version 22.0.4; however, version 23.1.2 is available.\n",
      "You should consider upgrading via the 'C:\\Users\\SSAFY\\AppData\\Local\\Programs\\Python\\Python39\\python.exe -m pip install --upgrade pip' command.\n"
     ]
    }
   ],
   "source": [
    "pip install JustWatch"
   ]
  },
  {
   "cell_type": "code",
   "execution_count": null,
   "id": "9cae2469",
   "metadata": {},
   "outputs": [],
   "source": [
    "# import sys\n",
    "# from justwatch import JustWatch\n",
    "# import pprint\n",
    "\n",
    "# just_watch = JustWatch(country='KR')\n",
    "\n",
    "# results = []\n",
    "\n",
    "# for num in range(1, 31):\n",
    "\n",
    "#     result_by_multiple = just_watch.search_for_item(\n",
    "#         providers=['dps'],\n",
    "#         content_types=['movie'],\n",
    "#         page = num,\n",
    "#     )\n",
    "    \n",
    "#     results.append(result_by_multiple)\n",
    "    \n",
    "# sys.stdout = open('myjson.txt', 'w', encoding=\"UTF-8\")\n",
    "\n",
    "# pprint.pprint(results)\n",
    "\n",
    "# sys.stdout.close()\n",
    "\n",
    "from justwatch import JustWatch\n",
    "import pprint\n",
    "\n",
    "just_watch = JustWatch(country='KR')\n",
    "\n",
    "result_by_multiple = just_watch.search_for_item(\n",
    "    providers=['dps'],\n",
    "    content_types=['movie'],\n",
    "    page = num,\n",
    ")\n",
    "\n",
    "print(results)\n",
    "print('완료')"
   ]
  },
  {
   "cell_type": "code",
   "execution_count": null,
   "id": "3b977ffe",
   "metadata": {},
   "outputs": [],
   "source": []
  }
 ],
 "metadata": {
  "kernelspec": {
   "display_name": "Python 3 (ipykernel)",
   "language": "python",
   "name": "python3"
  },
  "language_info": {
   "codemirror_mode": {
    "name": "ipython",
    "version": 3
   },
   "file_extension": ".py",
   "mimetype": "text/x-python",
   "name": "python",
   "nbconvert_exporter": "python",
   "pygments_lexer": "ipython3",
   "version": "3.9.13"
  }
 },
 "nbformat": 4,
 "nbformat_minor": 5
}
